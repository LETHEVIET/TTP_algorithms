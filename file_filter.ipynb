{
 "cells": [
  {
   "cell_type": "code",
   "execution_count": 1,
   "metadata": {},
   "outputs": [],
   "source": [
    "TSP_bases = [\"eil76\",\n",
    "            \"kroA100\",\n",
    "            \"ch130\",\n",
    "            \"u159\",\n",
    "            \"a280\",\n",
    "            \"u574\",\n",
    "            \"u724\",\n",
    "            \"dsj1000\",\n",
    "            \"rl1304\",\n",
    "            \"fl1577\",\n",
    "            \"d2103\",\n",
    "            \"pcb3038\",\n",
    "            \"fnl4461\",\n",
    "            \"pla7397\",\n",
    "            \"rl11849\",\n",
    "            \"usa13509\",\n",
    "            \"brd14051\",\n",
    "            \"d15112\",\n",
    "            \"d18512\",\n",
    "            \"pla33810\",]\n",
    "F = [0,1,3,5,10]\n",
    "T = ['','uncorr','uncorr-similar-weights','bounded-strongly-corr']\n",
    "C = [0,1,2,3,4,5,6,7,8,9,10]"
   ]
  },
  {
   "cell_type": "code",
   "execution_count": 23,
   "metadata": {},
   "outputs": [
    {
     "data": {
      "text/plain": [
       "[0, 1, 2, 3, 4, 5, 6, 7, 8, 9, 10]"
      ]
     },
     "execution_count": 23,
     "metadata": {},
     "output_type": "execute_result"
    }
   ],
   "source": [
    "C"
   ]
  },
  {
   "cell_type": "code",
   "execution_count": 14,
   "metadata": {},
   "outputs": [
    {
     "name": "stdout",
     "output_type": "stream",
     "text": [
      "33810\n"
     ]
    }
   ],
   "source": [
    "tsp_base = 'pla33810'\n",
    "nb_city = ''\n",
    "for c in tsp_base[::-1]:\n",
    "    if c.isdigit(): \n",
    "        nb_city = c + nb_city\n",
    "\n",
    "print(str(int(nb_city)))"
   ]
  },
  {
   "cell_type": "code",
   "execution_count": 34,
   "metadata": {},
   "outputs": [
    {
     "data": {
      "text/plain": [
       "'01'"
      ]
     },
     "execution_count": 34,
     "metadata": {},
     "output_type": "execute_result"
    }
   ],
   "source": [
    "\"%02d\" % (1,)"
   ]
  },
  {
   "cell_type": "code",
   "execution_count": 6,
   "metadata": {},
   "outputs": [
    {
     "name": "stdout",
     "output_type": "stream",
     "text": [
      "kroA100_n99_uncorr_10.ttp\n"
     ]
    },
    {
     "data": {
      "text/plain": [
       "'TTP_benchmark/TTP_Dataset/kroA100-ttp/kroA100_n99_uncorr_10.ttp'"
      ]
     },
     "execution_count": 6,
     "metadata": {},
     "output_type": "execute_result"
    }
   ],
   "source": [
    "import os\n",
    "def gen_ttp_name(tsp_base, f, t, c):\n",
    "    nb_city = ''\n",
    "    for char in tsp_base[::-1]:\n",
    "        if char.isdigit(): \n",
    "            nb_city = char + nb_city\n",
    "    nb_city = int(nb_city)\n",
    "    return '_'.join([tsp_base, 'n'+str((nb_city-1) * f), t, \"%02d\" % (c,)])+\".ttp\"\n",
    "\n",
    "def checkfile(filename):\n",
    "    tsp = filename.split('_')[0]\n",
    "    # print(f\"TTP_Dataset/TTP_data/{tsp}-ttp/{filename}\")\n",
    "    # return os.path.exists(f\"TTP_benchmark/TTP_Dataset/{tsp}-ttp/{filename}\")\n",
    "    return f\"TTP_benchmark/TTP_Dataset/{tsp}-ttp/{filename}\"\n",
    "\n",
    "file_name = gen_ttp_name(TSP_bases[1], F[1], T[1], C[10])\n",
    "print(file_name)\n",
    "checkfile(file_name)"
   ]
  },
  {
   "cell_type": "code",
   "execution_count": 7,
   "metadata": {},
   "outputs": [],
   "source": [
    "categories = {\n",
    "    'categoryA' : { 'F': 1, 'T': 3, 'C': 1 },\n",
    "    'categoryB' : { 'F': 5, 'T': 2, 'C': 5 },\n",
    "    'categoryC' : { 'F': 10, 'T': 1, 'C': 10 },\n",
    "}\n",
    "filenamelist = []\n",
    "for category in categories:\n",
    "    with open(f'TTP_benchmark/{str(category)}filelist.txt', 'w') as f:\n",
    "        for tsp_base in TSP_bases:\n",
    "            filename = gen_ttp_name(tsp_base, categories[category]['F'], T[categories[category]['T']], categories[category]['C'])\n",
    "            filenamelist.append(filename)\n",
    "            f.writelines(filename + '\\n')\n",
    "\n",
    "with open('TTP_benchmark/benchmarkfilelist.txt', 'w') as f:\n",
    "    for filename in filenamelist:\n",
    "        f.writelines(filename + '\\n')\n",
    "# len(filenamelist)"
   ]
  }
 ],
 "metadata": {
  "kernelspec": {
   "display_name": "general",
   "language": "python",
   "name": "python3"
  },
  "language_info": {
   "codemirror_mode": {
    "name": "ipython",
    "version": 3
   },
   "file_extension": ".py",
   "mimetype": "text/x-python",
   "name": "python",
   "nbconvert_exporter": "python",
   "pygments_lexer": "ipython3",
   "version": "3.8.6"
  }
 },
 "nbformat": 4,
 "nbformat_minor": 2
}
