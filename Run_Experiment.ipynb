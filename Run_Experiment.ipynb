{
 "cells": [
  {
   "cell_type": "code",
   "execution_count": 1,
   "metadata": {},
   "outputs": [],
   "source": [
    "import itertools\n",
    "import os\n",
    "import subprocess\n",
    "import multiprocessing\n",
    "from tqdm import tqdm\n",
    "import argparse\n",
    "from datetime import datetime\n",
    "import yaml"
   ]
  },
  {
   "cell_type": "code",
   "execution_count": 2,
   "metadata": {},
   "outputs": [
    {
     "data": {
      "text/plain": [
       "4"
      ]
     },
     "execution_count": 2,
     "metadata": {},
     "output_type": "execute_result"
    }
   ],
   "source": [
    "number_of_runs = 10\n",
    "n_processes = 6\n",
    "\n",
    "multiprocessing.cpu_count() "
   ]
  },
  {
   "cell_type": "code",
   "execution_count": 3,
   "metadata": {},
   "outputs": [],
   "source": [
    "def run_command(command):\n",
    "    result = subprocess.run(command, capture_output=True)\n",
    "    assert (\n",
    "        result.returncode == 0\n",
    "    ), f\"\"\"\n",
    "    command:\n",
    "    {\"$ \"+' '.join(command)}\n",
    "    returncode: {result.returncode}\n",
    "    stderr:\n",
    "    {result.stderr.decode()}\n",
    "    stdout:\n",
    "    {result.stdout.decode()}\n",
    "    \"\"\"\n",
    "    return result\n",
    "\n",
    "def launcher(arg):\n",
    "    instance_name, command, repetition = arg\n",
    "\n",
    "    result = run_command(command)\n",
    "\n",
    "    stdout_log = result.stdout.decode()\n",
    "\n",
    "    return (instance_name, repetition, stdout_log)"
   ]
  },
  {
   "cell_type": "code",
   "execution_count": 4,
   "metadata": {},
   "outputs": [],
   "source": [
    "def imap_unordered_bar(func, args, total, n_processes):\n",
    "    p = multiprocessing.Pool(n_processes)\n",
    "\n",
    "    with tqdm(total=total) as pbar:\n",
    "        for i, result in tqdm(\n",
    "            enumerate(p.imap_unordered(func, args)), desc=\"iner\", disable=True\n",
    "        ):\n",
    "            instance_name, repetition, stdout_log = result\n",
    "            pbar.update(1)\n",
    "            if repetition == number_of_runs - 1:\n",
    "                pbar.write(f\"{instance_name} is completed at {datetime.now()}\")\n",
    "                pbar.write(stdout_log)\n",
    "    pbar.close()\n",
    "    p.close()\n",
    "    p.join()\n"
   ]
  },
  {
   "cell_type": "code",
   "execution_count": 5,
   "metadata": {},
   "outputs": [],
   "source": [
    "ttp_files = []\n",
    "with open(\"TTP_benchmark/benchmarkfilelist.txt\", \"r\") as f:\n",
    "    for line in f:\n",
    "        ttp_files.append(line[:-1])\n",
    "\n",
    "ttp_files = ttp_files[:4]"
   ]
  },
  {
   "cell_type": "markdown",
   "metadata": {},
   "source": [
    "### CS2SA*"
   ]
  },
  {
   "cell_type": "code",
   "execution_count": 6,
   "metadata": {},
   "outputs": [],
   "source": [
    "os.chdir(\"CS2SA_star\")"
   ]
  },
  {
   "cell_type": "code",
   "execution_count": 7,
   "metadata": {},
   "outputs": [],
   "source": [
    "with open(\"output/CS2SA\", \"w\") as f:\n",
    "    pass"
   ]
  },
  {
   "cell_type": "code",
   "execution_count": null,
   "metadata": {},
   "outputs": [],
   "source": [
    "number_of_runs = 10\n",
    "n_processes = 6\n",
    "timelimit = 600\n",
    "\n",
    "args = []\n",
    "for instance_name in ttp_files:\n",
    "    for repetition in range(number_of_runs):\n",
    "        command = [\n",
    "            \"java\",\n",
    "            \"-jar\",\n",
    "            \"TTPSolver.test.jar\",\n",
    "            instance_name,\n",
    "            \"cs2sa\",\n",
    "            \"CS2SA\",\n",
    "            str(timelimit),\n",
    "            instance_name[0:-4] + f\"_{repetition}.sol\"\n",
    "        ]\n",
    "        args.append((instance_name, command, repetition))\n",
    "\n",
    "imap_unordered_bar(launcher, args, len(args), n_processes)"
   ]
  }
 ],
 "metadata": {
  "kernelspec": {
   "display_name": "Python 3",
   "language": "python",
   "name": "python3"
  },
  "language_info": {
   "codemirror_mode": {
    "name": "ipython",
    "version": 3
   },
   "file_extension": ".py",
   "mimetype": "text/x-python",
   "name": "python",
   "nbconvert_exporter": "python",
   "pygments_lexer": "ipython3",
   "version": "3.8.6"
  }
 },
 "nbformat": 4,
 "nbformat_minor": 2
}
